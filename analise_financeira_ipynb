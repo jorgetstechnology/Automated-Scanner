{
  "nbformat": 4,
  "nbformat_minor": 0,
  "metadata": {
    "colab": {
      "name": "Untitled",
      "provenance": [],
      "include_colab_link": true
    },
    "kernelspec": {
      "name": "python3",
      "display_name": "Python 3"
    }
  },
  "cells": [
    {
      "cell_type": "markdown",
      "metadata": {
        "id": "view-in-github",
        "colab_type": "text"
      },
      "source": [
        "<a href=\"https://colab.research.google.com/github/jorgetstechnology/Automated-Scanner/blob/master/analise_financeira_ipynb\" target=\"_parent\"><img src=\"https://colab.research.google.com/assets/colab-badge.svg\" alt=\"Open In Colab\"/></a>"
      ]
    },
    {
      "cell_type": "markdown",
      "metadata": {
        "id": "CjCevQoANwOf",
        "colab_type": "text"
      },
      "source": [
        "**Módulos**"
      ]
    },
    {
      "cell_type": "code",
      "metadata": {
        "id": "vsMxy469LHuU",
        "colab_type": "code",
        "colab": {}
      },
      "source": [
        "import numpy as np\n",
        "import pandas as pd"
      ],
      "execution_count": 0,
      "outputs": []
    },
    {
      "cell_type": "code",
      "metadata": {
        "id": "wpGql8fiLUHT",
        "colab_type": "code",
        "outputId": "45083c00-cebd-4753-d3d3-e2147091d44f",
        "colab": {
          "base_uri": "https://localhost:8080/",
          "height": 119
        }
      },
      "source": [
        "ser = pd.Series (np.random.random(5), name = (\"Column 01\"))\n",
        "ser"
      ],
      "execution_count": 0,
      "outputs": [
        {
          "output_type": "execute_result",
          "data": {
            "text/plain": [
              "0    0.728653\n",
              "1    0.719158\n",
              "2    0.464599\n",
              "3    0.064234\n",
              "4    0.625493\n",
              "Name: Column 01, dtype: float64"
            ]
          },
          "metadata": {
            "tags": []
          },
          "execution_count": 5
        }
      ]
    },
    {
      "cell_type": "code",
      "metadata": {
        "id": "PBa4z0AHLVBT",
        "colab_type": "code",
        "outputId": "0d22595c-9dbc-4a6d-e02a-abcd6202ed9d",
        "colab": {
          "base_uri": "https://localhost:8080/",
          "height": 34
        }
      },
      "source": [
        "ser[2]"
      ],
      "execution_count": 0,
      "outputs": [
        {
          "output_type": "execute_result",
          "data": {
            "text/plain": [
              "0.4645990341324556"
            ]
          },
          "metadata": {
            "tags": []
          },
          "execution_count": 6
        }
      ]
    },
    {
      "cell_type": "code",
      "metadata": {
        "id": "S1OPl1ruLWIv",
        "colab_type": "code",
        "colab": {}
      },
      "source": [
        "from pandas_datareader import data as wb"
      ],
      "execution_count": 0,
      "outputs": []
    },
    {
      "cell_type": "code",
      "metadata": {
        "id": "K2Hst-C2LX_5",
        "colab_type": "code",
        "outputId": "6aa07e97-7ba2-46cc-c094-0e471d4623f6",
        "colab": {
          "base_uri": "https://localhost:8080/",
          "height": 450
        }
      },
      "source": [
        "#Retorna dados do yahoo finance da Procter & Gamble (PG)\n",
        "#col DATE são as negociações diárias\n",
        "#4 primeiras colunas referem-se aos preços, a 5º volume de negociação e 6º preço \n",
        "#de fechamento ajustado\n",
        "PG = wb.DataReader('PG', data_source = 'yahoo', start = '1995-1-1')#yahoo finances\n",
        "PG"
      ],
      "execution_count": 0,
      "outputs": [
        {
          "output_type": "execute_result",
          "data": {
            "text/html": [
              "<div>\n",
              "<style scoped>\n",
              "    .dataframe tbody tr th:only-of-type {\n",
              "        vertical-align: middle;\n",
              "    }\n",
              "\n",
              "    .dataframe tbody tr th {\n",
              "        vertical-align: top;\n",
              "    }\n",
              "\n",
              "    .dataframe thead th {\n",
              "        text-align: right;\n",
              "    }\n",
              "</style>\n",
              "<table border=\"1\" class=\"dataframe\">\n",
              "  <thead>\n",
              "    <tr style=\"text-align: right;\">\n",
              "      <th></th>\n",
              "      <th>High</th>\n",
              "      <th>Low</th>\n",
              "      <th>Open</th>\n",
              "      <th>Close</th>\n",
              "      <th>Volume</th>\n",
              "      <th>Adj Close</th>\n",
              "    </tr>\n",
              "    <tr>\n",
              "      <th>Date</th>\n",
              "      <th></th>\n",
              "      <th></th>\n",
              "      <th></th>\n",
              "      <th></th>\n",
              "      <th></th>\n",
              "      <th></th>\n",
              "    </tr>\n",
              "  </thead>\n",
              "  <tbody>\n",
              "    <tr>\n",
              "      <th>1995-01-03</th>\n",
              "      <td>15.625000</td>\n",
              "      <td>15.437500</td>\n",
              "      <td>15.468750</td>\n",
              "      <td>15.593750</td>\n",
              "      <td>3318400.0</td>\n",
              "      <td>6.400181</td>\n",
              "    </tr>\n",
              "    <tr>\n",
              "      <th>1995-01-04</th>\n",
              "      <td>15.656250</td>\n",
              "      <td>15.312500</td>\n",
              "      <td>15.531250</td>\n",
              "      <td>15.468750</td>\n",
              "      <td>2218800.0</td>\n",
              "      <td>6.348878</td>\n",
              "    </tr>\n",
              "    <tr>\n",
              "      <th>1995-01-05</th>\n",
              "      <td>15.437500</td>\n",
              "      <td>15.218750</td>\n",
              "      <td>15.375000</td>\n",
              "      <td>15.250000</td>\n",
              "      <td>2319600.0</td>\n",
              "      <td>6.259093</td>\n",
              "    </tr>\n",
              "    <tr>\n",
              "      <th>1995-01-06</th>\n",
              "      <td>15.406250</td>\n",
              "      <td>15.156250</td>\n",
              "      <td>15.156250</td>\n",
              "      <td>15.281250</td>\n",
              "      <td>3438000.0</td>\n",
              "      <td>6.271922</td>\n",
              "    </tr>\n",
              "    <tr>\n",
              "      <th>1995-01-09</th>\n",
              "      <td>15.406250</td>\n",
              "      <td>15.187500</td>\n",
              "      <td>15.343750</td>\n",
              "      <td>15.218750</td>\n",
              "      <td>1795200.0</td>\n",
              "      <td>6.246270</td>\n",
              "    </tr>\n",
              "    <tr>\n",
              "      <th>...</th>\n",
              "      <td>...</td>\n",
              "      <td>...</td>\n",
              "      <td>...</td>\n",
              "      <td>...</td>\n",
              "      <td>...</td>\n",
              "      <td>...</td>\n",
              "    </tr>\n",
              "    <tr>\n",
              "      <th>2019-12-31</th>\n",
              "      <td>124.989998</td>\n",
              "      <td>123.949997</td>\n",
              "      <td>124.430000</td>\n",
              "      <td>124.900002</td>\n",
              "      <td>4798900.0</td>\n",
              "      <td>124.900002</td>\n",
              "    </tr>\n",
              "    <tr>\n",
              "      <th>2020-01-02</th>\n",
              "      <td>124.730003</td>\n",
              "      <td>122.940002</td>\n",
              "      <td>124.500000</td>\n",
              "      <td>123.410004</td>\n",
              "      <td>8130800.0</td>\n",
              "      <td>123.410004</td>\n",
              "    </tr>\n",
              "    <tr>\n",
              "      <th>2020-01-03</th>\n",
              "      <td>123.529999</td>\n",
              "      <td>121.860001</td>\n",
              "      <td>122.160004</td>\n",
              "      <td>122.580002</td>\n",
              "      <td>7970500.0</td>\n",
              "      <td>122.580002</td>\n",
              "    </tr>\n",
              "    <tr>\n",
              "      <th>2020-01-06</th>\n",
              "      <td>123.190002</td>\n",
              "      <td>122.379997</td>\n",
              "      <td>122.570000</td>\n",
              "      <td>122.750000</td>\n",
              "      <td>6674400.0</td>\n",
              "      <td>122.750000</td>\n",
              "    </tr>\n",
              "    <tr>\n",
              "      <th>2020-01-07</th>\n",
              "      <td>123.199997</td>\n",
              "      <td>122.250000</td>\n",
              "      <td>122.879997</td>\n",
              "      <td>122.699997</td>\n",
              "      <td>2724477.0</td>\n",
              "      <td>122.699997</td>\n",
              "    </tr>\n",
              "  </tbody>\n",
              "</table>\n",
              "<p>6298 rows × 6 columns</p>\n",
              "</div>"
            ],
            "text/plain": [
              "                  High         Low  ...     Volume   Adj Close\n",
              "Date                                ...                       \n",
              "1995-01-03   15.625000   15.437500  ...  3318400.0    6.400181\n",
              "1995-01-04   15.656250   15.312500  ...  2218800.0    6.348878\n",
              "1995-01-05   15.437500   15.218750  ...  2319600.0    6.259093\n",
              "1995-01-06   15.406250   15.156250  ...  3438000.0    6.271922\n",
              "1995-01-09   15.406250   15.187500  ...  1795200.0    6.246270\n",
              "...                ...         ...  ...        ...         ...\n",
              "2019-12-31  124.989998  123.949997  ...  4798900.0  124.900002\n",
              "2020-01-02  124.730003  122.940002  ...  8130800.0  123.410004\n",
              "2020-01-03  123.529999  121.860001  ...  7970500.0  122.580002\n",
              "2020-01-06  123.190002  122.379997  ...  6674400.0  122.750000\n",
              "2020-01-07  123.199997  122.250000  ...  2724477.0  122.699997\n",
              "\n",
              "[6298 rows x 6 columns]"
            ]
          },
          "metadata": {
            "tags": []
          },
          "execution_count": 8
        }
      ]
    },
    {
      "cell_type": "code",
      "metadata": {
        "id": "_99TQWrxLX3A",
        "colab_type": "code",
        "outputId": "2112578b-02f8-4584-8e85-08acd0b89eec",
        "colab": {
          "base_uri": "https://localhost:8080/",
          "height": 235
        }
      },
      "source": [
        "\n",
        "PG.head()"
      ],
      "execution_count": 0,
      "outputs": [
        {
          "output_type": "execute_result",
          "data": {
            "text/html": [
              "<div>\n",
              "<style scoped>\n",
              "    .dataframe tbody tr th:only-of-type {\n",
              "        vertical-align: middle;\n",
              "    }\n",
              "\n",
              "    .dataframe tbody tr th {\n",
              "        vertical-align: top;\n",
              "    }\n",
              "\n",
              "    .dataframe thead th {\n",
              "        text-align: right;\n",
              "    }\n",
              "</style>\n",
              "<table border=\"1\" class=\"dataframe\">\n",
              "  <thead>\n",
              "    <tr style=\"text-align: right;\">\n",
              "      <th></th>\n",
              "      <th>High</th>\n",
              "      <th>Low</th>\n",
              "      <th>Open</th>\n",
              "      <th>Close</th>\n",
              "      <th>Volume</th>\n",
              "      <th>Adj Close</th>\n",
              "    </tr>\n",
              "    <tr>\n",
              "      <th>Date</th>\n",
              "      <th></th>\n",
              "      <th></th>\n",
              "      <th></th>\n",
              "      <th></th>\n",
              "      <th></th>\n",
              "      <th></th>\n",
              "    </tr>\n",
              "  </thead>\n",
              "  <tbody>\n",
              "    <tr>\n",
              "      <th>1995-01-03</th>\n",
              "      <td>15.62500</td>\n",
              "      <td>15.43750</td>\n",
              "      <td>15.46875</td>\n",
              "      <td>15.59375</td>\n",
              "      <td>3318400.0</td>\n",
              "      <td>6.400181</td>\n",
              "    </tr>\n",
              "    <tr>\n",
              "      <th>1995-01-04</th>\n",
              "      <td>15.65625</td>\n",
              "      <td>15.31250</td>\n",
              "      <td>15.53125</td>\n",
              "      <td>15.46875</td>\n",
              "      <td>2218800.0</td>\n",
              "      <td>6.348878</td>\n",
              "    </tr>\n",
              "    <tr>\n",
              "      <th>1995-01-05</th>\n",
              "      <td>15.43750</td>\n",
              "      <td>15.21875</td>\n",
              "      <td>15.37500</td>\n",
              "      <td>15.25000</td>\n",
              "      <td>2319600.0</td>\n",
              "      <td>6.259093</td>\n",
              "    </tr>\n",
              "    <tr>\n",
              "      <th>1995-01-06</th>\n",
              "      <td>15.40625</td>\n",
              "      <td>15.15625</td>\n",
              "      <td>15.15625</td>\n",
              "      <td>15.28125</td>\n",
              "      <td>3438000.0</td>\n",
              "      <td>6.271922</td>\n",
              "    </tr>\n",
              "    <tr>\n",
              "      <th>1995-01-09</th>\n",
              "      <td>15.40625</td>\n",
              "      <td>15.18750</td>\n",
              "      <td>15.34375</td>\n",
              "      <td>15.21875</td>\n",
              "      <td>1795200.0</td>\n",
              "      <td>6.246270</td>\n",
              "    </tr>\n",
              "  </tbody>\n",
              "</table>\n",
              "</div>"
            ],
            "text/plain": [
              "                High       Low      Open     Close     Volume  Adj Close\n",
              "Date                                                                    \n",
              "1995-01-03  15.62500  15.43750  15.46875  15.59375  3318400.0   6.400181\n",
              "1995-01-04  15.65625  15.31250  15.53125  15.46875  2218800.0   6.348878\n",
              "1995-01-05  15.43750  15.21875  15.37500  15.25000  2319600.0   6.259093\n",
              "1995-01-06  15.40625  15.15625  15.15625  15.28125  3438000.0   6.271922\n",
              "1995-01-09  15.40625  15.18750  15.34375  15.21875  1795200.0   6.246270"
            ]
          },
          "metadata": {
            "tags": []
          },
          "execution_count": 16
        }
      ]
    },
    {
      "cell_type": "code",
      "metadata": {
        "id": "JE5Ua2ZYRrHY",
        "colab_type": "code",
        "outputId": "2a0c7bd5-ceca-4b47-91e3-a15ae16f2b34",
        "colab": {
          "base_uri": "https://localhost:8080/",
          "height": 204
        }
      },
      "source": [
        "PG.info()"
      ],
      "execution_count": 0,
      "outputs": [
        {
          "output_type": "stream",
          "text": [
            "<class 'pandas.core.frame.DataFrame'>\n",
            "DatetimeIndex: 6298 entries, 1995-01-03 to 2020-01-07\n",
            "Data columns (total 6 columns):\n",
            "High         6298 non-null float64\n",
            "Low          6298 non-null float64\n",
            "Open         6298 non-null float64\n",
            "Close        6298 non-null float64\n",
            "Volume       6298 non-null float64\n",
            "Adj Close    6298 non-null float64\n",
            "dtypes: float64(6)\n",
            "memory usage: 344.4 KB\n"
          ],
          "name": "stdout"
        }
      ]
    },
    {
      "cell_type": "code",
      "metadata": {
        "id": "zHScTQ6oRT8Q",
        "colab_type": "code",
        "outputId": "15f0b682-0d1b-4933-e895-88e0799eebc7",
        "colab": {
          "base_uri": "https://localhost:8080/",
          "height": 235
        }
      },
      "source": [
        "#\n",
        "PG.tail()"
      ],
      "execution_count": 0,
      "outputs": [
        {
          "output_type": "execute_result",
          "data": {
            "text/html": [
              "<div>\n",
              "<style scoped>\n",
              "    .dataframe tbody tr th:only-of-type {\n",
              "        vertical-align: middle;\n",
              "    }\n",
              "\n",
              "    .dataframe tbody tr th {\n",
              "        vertical-align: top;\n",
              "    }\n",
              "\n",
              "    .dataframe thead th {\n",
              "        text-align: right;\n",
              "    }\n",
              "</style>\n",
              "<table border=\"1\" class=\"dataframe\">\n",
              "  <thead>\n",
              "    <tr style=\"text-align: right;\">\n",
              "      <th></th>\n",
              "      <th>High</th>\n",
              "      <th>Low</th>\n",
              "      <th>Open</th>\n",
              "      <th>Close</th>\n",
              "      <th>Volume</th>\n",
              "      <th>Adj Close</th>\n",
              "    </tr>\n",
              "    <tr>\n",
              "      <th>Date</th>\n",
              "      <th></th>\n",
              "      <th></th>\n",
              "      <th></th>\n",
              "      <th></th>\n",
              "      <th></th>\n",
              "      <th></th>\n",
              "    </tr>\n",
              "  </thead>\n",
              "  <tbody>\n",
              "    <tr>\n",
              "      <th>2019-12-31</th>\n",
              "      <td>124.989998</td>\n",
              "      <td>123.949997</td>\n",
              "      <td>124.430000</td>\n",
              "      <td>124.900002</td>\n",
              "      <td>4798900.0</td>\n",
              "      <td>124.900002</td>\n",
              "    </tr>\n",
              "    <tr>\n",
              "      <th>2020-01-02</th>\n",
              "      <td>124.730003</td>\n",
              "      <td>122.940002</td>\n",
              "      <td>124.500000</td>\n",
              "      <td>123.410004</td>\n",
              "      <td>8130800.0</td>\n",
              "      <td>123.410004</td>\n",
              "    </tr>\n",
              "    <tr>\n",
              "      <th>2020-01-03</th>\n",
              "      <td>123.529999</td>\n",
              "      <td>121.860001</td>\n",
              "      <td>122.160004</td>\n",
              "      <td>122.580002</td>\n",
              "      <td>7970500.0</td>\n",
              "      <td>122.580002</td>\n",
              "    </tr>\n",
              "    <tr>\n",
              "      <th>2020-01-06</th>\n",
              "      <td>123.190002</td>\n",
              "      <td>122.379997</td>\n",
              "      <td>122.570000</td>\n",
              "      <td>122.750000</td>\n",
              "      <td>6674400.0</td>\n",
              "      <td>122.750000</td>\n",
              "    </tr>\n",
              "    <tr>\n",
              "      <th>2020-01-07</th>\n",
              "      <td>123.199997</td>\n",
              "      <td>122.250000</td>\n",
              "      <td>122.879997</td>\n",
              "      <td>122.699997</td>\n",
              "      <td>2724477.0</td>\n",
              "      <td>122.699997</td>\n",
              "    </tr>\n",
              "  </tbody>\n",
              "</table>\n",
              "</div>"
            ],
            "text/plain": [
              "                  High         Low  ...     Volume   Adj Close\n",
              "Date                                ...                       \n",
              "2019-12-31  124.989998  123.949997  ...  4798900.0  124.900002\n",
              "2020-01-02  124.730003  122.940002  ...  8130800.0  123.410004\n",
              "2020-01-03  123.529999  121.860001  ...  7970500.0  122.580002\n",
              "2020-01-06  123.190002  122.379997  ...  6674400.0  122.750000\n",
              "2020-01-07  123.199997  122.250000  ...  2724477.0  122.699997\n",
              "\n",
              "[5 rows x 6 columns]"
            ]
          },
          "metadata": {
            "tags": []
          },
          "execution_count": 17
        }
      ]
    },
    {
      "cell_type": "code",
      "metadata": {
        "id": "vwSd7aVJRu0c",
        "colab_type": "code",
        "outputId": "705631a3-bddb-4ad8-bb17-1f5892a91386",
        "colab": {
          "base_uri": "https://localhost:8080/",
          "height": 700
        }
      },
      "source": [
        "#retorna as 20 ultimas linhas do df\n",
        "PG.tail(20)"
      ],
      "execution_count": 0,
      "outputs": [
        {
          "output_type": "execute_result",
          "data": {
            "text/html": [
              "<div>\n",
              "<style scoped>\n",
              "    .dataframe tbody tr th:only-of-type {\n",
              "        vertical-align: middle;\n",
              "    }\n",
              "\n",
              "    .dataframe tbody tr th {\n",
              "        vertical-align: top;\n",
              "    }\n",
              "\n",
              "    .dataframe thead th {\n",
              "        text-align: right;\n",
              "    }\n",
              "</style>\n",
              "<table border=\"1\" class=\"dataframe\">\n",
              "  <thead>\n",
              "    <tr style=\"text-align: right;\">\n",
              "      <th></th>\n",
              "      <th>High</th>\n",
              "      <th>Low</th>\n",
              "      <th>Open</th>\n",
              "      <th>Close</th>\n",
              "      <th>Volume</th>\n",
              "      <th>Adj Close</th>\n",
              "    </tr>\n",
              "    <tr>\n",
              "      <th>Date</th>\n",
              "      <th></th>\n",
              "      <th></th>\n",
              "      <th></th>\n",
              "      <th></th>\n",
              "      <th></th>\n",
              "      <th></th>\n",
              "    </tr>\n",
              "  </thead>\n",
              "  <tbody>\n",
              "    <tr>\n",
              "      <th>2019-12-09</th>\n",
              "      <td>125.139999</td>\n",
              "      <td>124.180000</td>\n",
              "      <td>124.309998</td>\n",
              "      <td>124.870003</td>\n",
              "      <td>7452800.0</td>\n",
              "      <td>124.870003</td>\n",
              "    </tr>\n",
              "    <tr>\n",
              "      <th>2019-12-10</th>\n",
              "      <td>124.870003</td>\n",
              "      <td>124.120003</td>\n",
              "      <td>124.779999</td>\n",
              "      <td>124.269997</td>\n",
              "      <td>4740100.0</td>\n",
              "      <td>124.269997</td>\n",
              "    </tr>\n",
              "    <tr>\n",
              "      <th>2019-12-11</th>\n",
              "      <td>125.269997</td>\n",
              "      <td>124.070000</td>\n",
              "      <td>124.269997</td>\n",
              "      <td>124.660004</td>\n",
              "      <td>4823300.0</td>\n",
              "      <td>124.660004</td>\n",
              "    </tr>\n",
              "    <tr>\n",
              "      <th>2019-12-12</th>\n",
              "      <td>125.760002</td>\n",
              "      <td>123.879997</td>\n",
              "      <td>124.779999</td>\n",
              "      <td>124.570000</td>\n",
              "      <td>5897800.0</td>\n",
              "      <td>124.570000</td>\n",
              "    </tr>\n",
              "    <tr>\n",
              "      <th>2019-12-13</th>\n",
              "      <td>125.739998</td>\n",
              "      <td>123.790001</td>\n",
              "      <td>124.209999</td>\n",
              "      <td>125.470001</td>\n",
              "      <td>5471600.0</td>\n",
              "      <td>125.470001</td>\n",
              "    </tr>\n",
              "    <tr>\n",
              "      <th>2019-12-16</th>\n",
              "      <td>126.349998</td>\n",
              "      <td>125.349998</td>\n",
              "      <td>125.470001</td>\n",
              "      <td>125.559998</td>\n",
              "      <td>8281900.0</td>\n",
              "      <td>125.559998</td>\n",
              "    </tr>\n",
              "    <tr>\n",
              "      <th>2019-12-17</th>\n",
              "      <td>125.980003</td>\n",
              "      <td>124.309998</td>\n",
              "      <td>125.589996</td>\n",
              "      <td>125.309998</td>\n",
              "      <td>8832200.0</td>\n",
              "      <td>125.309998</td>\n",
              "    </tr>\n",
              "    <tr>\n",
              "      <th>2019-12-18</th>\n",
              "      <td>125.870003</td>\n",
              "      <td>123.690002</td>\n",
              "      <td>125.309998</td>\n",
              "      <td>124.010002</td>\n",
              "      <td>8607600.0</td>\n",
              "      <td>124.010002</td>\n",
              "    </tr>\n",
              "    <tr>\n",
              "      <th>2019-12-19</th>\n",
              "      <td>125.199997</td>\n",
              "      <td>123.900002</td>\n",
              "      <td>124.160004</td>\n",
              "      <td>124.919998</td>\n",
              "      <td>6629100.0</td>\n",
              "      <td>124.919998</td>\n",
              "    </tr>\n",
              "    <tr>\n",
              "      <th>2019-12-20</th>\n",
              "      <td>126.599998</td>\n",
              "      <td>125.029999</td>\n",
              "      <td>126.150002</td>\n",
              "      <td>125.360001</td>\n",
              "      <td>16250500.0</td>\n",
              "      <td>125.360001</td>\n",
              "    </tr>\n",
              "    <tr>\n",
              "      <th>2019-12-23</th>\n",
              "      <td>125.820000</td>\n",
              "      <td>124.690002</td>\n",
              "      <td>125.519997</td>\n",
              "      <td>124.900002</td>\n",
              "      <td>6619500.0</td>\n",
              "      <td>124.900002</td>\n",
              "    </tr>\n",
              "    <tr>\n",
              "      <th>2019-12-24</th>\n",
              "      <td>125.309998</td>\n",
              "      <td>124.580002</td>\n",
              "      <td>124.790001</td>\n",
              "      <td>125.220001</td>\n",
              "      <td>2022100.0</td>\n",
              "      <td>125.220001</td>\n",
              "    </tr>\n",
              "    <tr>\n",
              "      <th>2019-12-26</th>\n",
              "      <td>125.750000</td>\n",
              "      <td>124.870003</td>\n",
              "      <td>125.099998</td>\n",
              "      <td>125.220001</td>\n",
              "      <td>4760400.0</td>\n",
              "      <td>125.220001</td>\n",
              "    </tr>\n",
              "    <tr>\n",
              "      <th>2019-12-27</th>\n",
              "      <td>126.300003</td>\n",
              "      <td>125.389999</td>\n",
              "      <td>125.559998</td>\n",
              "      <td>126.089996</td>\n",
              "      <td>5192000.0</td>\n",
              "      <td>126.089996</td>\n",
              "    </tr>\n",
              "    <tr>\n",
              "      <th>2019-12-30</th>\n",
              "      <td>125.980003</td>\n",
              "      <td>124.139999</td>\n",
              "      <td>125.760002</td>\n",
              "      <td>124.470001</td>\n",
              "      <td>3884300.0</td>\n",
              "      <td>124.470001</td>\n",
              "    </tr>\n",
              "    <tr>\n",
              "      <th>2019-12-31</th>\n",
              "      <td>124.989998</td>\n",
              "      <td>123.949997</td>\n",
              "      <td>124.430000</td>\n",
              "      <td>124.900002</td>\n",
              "      <td>4798900.0</td>\n",
              "      <td>124.900002</td>\n",
              "    </tr>\n",
              "    <tr>\n",
              "      <th>2020-01-02</th>\n",
              "      <td>124.730003</td>\n",
              "      <td>122.940002</td>\n",
              "      <td>124.500000</td>\n",
              "      <td>123.410004</td>\n",
              "      <td>8130800.0</td>\n",
              "      <td>123.410004</td>\n",
              "    </tr>\n",
              "    <tr>\n",
              "      <th>2020-01-03</th>\n",
              "      <td>123.529999</td>\n",
              "      <td>121.860001</td>\n",
              "      <td>122.160004</td>\n",
              "      <td>122.580002</td>\n",
              "      <td>7970500.0</td>\n",
              "      <td>122.580002</td>\n",
              "    </tr>\n",
              "    <tr>\n",
              "      <th>2020-01-06</th>\n",
              "      <td>123.190002</td>\n",
              "      <td>122.379997</td>\n",
              "      <td>122.570000</td>\n",
              "      <td>122.750000</td>\n",
              "      <td>6674400.0</td>\n",
              "      <td>122.750000</td>\n",
              "    </tr>\n",
              "    <tr>\n",
              "      <th>2020-01-07</th>\n",
              "      <td>123.199997</td>\n",
              "      <td>122.250000</td>\n",
              "      <td>122.879997</td>\n",
              "      <td>122.699997</td>\n",
              "      <td>2724477.0</td>\n",
              "      <td>122.699997</td>\n",
              "    </tr>\n",
              "  </tbody>\n",
              "</table>\n",
              "</div>"
            ],
            "text/plain": [
              "                  High         Low  ...      Volume   Adj Close\n",
              "Date                                ...                        \n",
              "2019-12-09  125.139999  124.180000  ...   7452800.0  124.870003\n",
              "2019-12-10  124.870003  124.120003  ...   4740100.0  124.269997\n",
              "2019-12-11  125.269997  124.070000  ...   4823300.0  124.660004\n",
              "2019-12-12  125.760002  123.879997  ...   5897800.0  124.570000\n",
              "2019-12-13  125.739998  123.790001  ...   5471600.0  125.470001\n",
              "2019-12-16  126.349998  125.349998  ...   8281900.0  125.559998\n",
              "2019-12-17  125.980003  124.309998  ...   8832200.0  125.309998\n",
              "2019-12-18  125.870003  123.690002  ...   8607600.0  124.010002\n",
              "2019-12-19  125.199997  123.900002  ...   6629100.0  124.919998\n",
              "2019-12-20  126.599998  125.029999  ...  16250500.0  125.360001\n",
              "2019-12-23  125.820000  124.690002  ...   6619500.0  124.900002\n",
              "2019-12-24  125.309998  124.580002  ...   2022100.0  125.220001\n",
              "2019-12-26  125.750000  124.870003  ...   4760400.0  125.220001\n",
              "2019-12-27  126.300003  125.389999  ...   5192000.0  126.089996\n",
              "2019-12-30  125.980003  124.139999  ...   3884300.0  124.470001\n",
              "2019-12-31  124.989998  123.949997  ...   4798900.0  124.900002\n",
              "2020-01-02  124.730003  122.940002  ...   8130800.0  123.410004\n",
              "2020-01-03  123.529999  121.860001  ...   7970500.0  122.580002\n",
              "2020-01-06  123.190002  122.379997  ...   6674400.0  122.750000\n",
              "2020-01-07  123.199997  122.250000  ...   2724477.0  122.699997\n",
              "\n",
              "[20 rows x 6 columns]"
            ]
          },
          "metadata": {
            "tags": []
          },
          "execution_count": 20
        }
      ]
    },
    {
      "cell_type": "code",
      "metadata": {
        "id": "ehoEZL0_RSYg",
        "colab_type": "code",
        "colab": {}
      },
      "source": [
        "#conjunto de dados de fechamento de empresas diferentes indidado em um didionario\n",
        "tickers = ['PG', 'MSFT', 'T', 'F', 'GE']\n",
        "new_data = pd.DataFrame()\n",
        "for t in tickers:\n",
        "  new_data[t] = wb.DataReader(t, data_source = 'yahoo', start = '1995-1-1')['Adj Close']"
      ],
      "execution_count": 0,
      "outputs": []
    },
    {
      "cell_type": "code",
      "metadata": {
        "id": "EkHI1A1ALXtv",
        "colab_type": "code",
        "outputId": "7e39584a-ebbe-41dc-bd22-98a86319f9f5",
        "colab": {
          "base_uri": "https://localhost:8080/",
          "height": 235
        }
      },
      "source": [
        "#PG = Procter & Gamble\n",
        "#MSFT = Microsoft\n",
        "\n",
        "new_data.tail()"
      ],
      "execution_count": 0,
      "outputs": [
        {
          "output_type": "execute_result",
          "data": {
            "text/html": [
              "<div>\n",
              "<style scoped>\n",
              "    .dataframe tbody tr th:only-of-type {\n",
              "        vertical-align: middle;\n",
              "    }\n",
              "\n",
              "    .dataframe tbody tr th {\n",
              "        vertical-align: top;\n",
              "    }\n",
              "\n",
              "    .dataframe thead th {\n",
              "        text-align: right;\n",
              "    }\n",
              "</style>\n",
              "<table border=\"1\" class=\"dataframe\">\n",
              "  <thead>\n",
              "    <tr style=\"text-align: right;\">\n",
              "      <th></th>\n",
              "      <th>PG</th>\n",
              "      <th>MSFT</th>\n",
              "      <th>T</th>\n",
              "      <th>F</th>\n",
              "      <th>GE</th>\n",
              "    </tr>\n",
              "    <tr>\n",
              "      <th>Date</th>\n",
              "      <th></th>\n",
              "      <th></th>\n",
              "      <th></th>\n",
              "      <th></th>\n",
              "      <th></th>\n",
              "    </tr>\n",
              "  </thead>\n",
              "  <tbody>\n",
              "    <tr>\n",
              "      <th>2019-12-31</th>\n",
              "      <td>124.900002</td>\n",
              "      <td>157.699997</td>\n",
              "      <td>39.080002</td>\n",
              "      <td>9.300</td>\n",
              "      <td>11.16</td>\n",
              "    </tr>\n",
              "    <tr>\n",
              "      <th>2020-01-02</th>\n",
              "      <td>123.410004</td>\n",
              "      <td>160.619995</td>\n",
              "      <td>38.860001</td>\n",
              "      <td>9.420</td>\n",
              "      <td>11.93</td>\n",
              "    </tr>\n",
              "    <tr>\n",
              "      <th>2020-01-03</th>\n",
              "      <td>122.580002</td>\n",
              "      <td>158.619995</td>\n",
              "      <td>39.060001</td>\n",
              "      <td>9.210</td>\n",
              "      <td>11.97</td>\n",
              "    </tr>\n",
              "    <tr>\n",
              "      <th>2020-01-06</th>\n",
              "      <td>122.750000</td>\n",
              "      <td>159.029999</td>\n",
              "      <td>39.099998</td>\n",
              "      <td>9.160</td>\n",
              "      <td>12.14</td>\n",
              "    </tr>\n",
              "    <tr>\n",
              "      <th>2020-01-07</th>\n",
              "      <td>122.635002</td>\n",
              "      <td>158.621902</td>\n",
              "      <td>39.224998</td>\n",
              "      <td>9.155</td>\n",
              "      <td>11.95</td>\n",
              "    </tr>\n",
              "  </tbody>\n",
              "</table>\n",
              "</div>"
            ],
            "text/plain": [
              "                    PG        MSFT          T      F     GE\n",
              "Date                                                       \n",
              "2019-12-31  124.900002  157.699997  39.080002  9.300  11.16\n",
              "2020-01-02  123.410004  160.619995  38.860001  9.420  11.93\n",
              "2020-01-03  122.580002  158.619995  39.060001  9.210  11.97\n",
              "2020-01-06  122.750000  159.029999  39.099998  9.160  12.14\n",
              "2020-01-07  122.635002  158.621902  39.224998  9.155  11.95"
            ]
          },
          "metadata": {
            "tags": []
          },
          "execution_count": 31
        }
      ]
    },
    {
      "cell_type": "markdown",
      "metadata": {
        "id": "Q9eVqKaZUKaQ",
        "colab_type": "text"
      },
      "source": [
        "**IEX**"
      ]
    },
    {
      "cell_type": "code",
      "metadata": {
        "id": "nuFv3aFZLXlM",
        "colab_type": "code",
        "colab": {}
      },
      "source": [
        "#from pandas_datareader import data as wb\n",
        "#PG = wb.DataReader('PG', data_source = 'iex', start = '2015-01-01')#iex finances\n",
        "#PG"
      ],
      "execution_count": 0,
      "outputs": []
    },
    {
      "cell_type": "code",
      "metadata": {
        "id": "lZhwC50YLXad",
        "colab_type": "code",
        "colab": {}
      },
      "source": [
        "#tickers = ['PG', 'MSFT', 'T', 'F', 'GE']\n",
        "#new_data = pd.DataFrame()\n",
        "#for t in tickers:\n",
        "#  new_data[t] = wb.DataReader(t, data_source = 'yahoo', start = '2015-1-1')['close']\n",
        "#  new_data.tail()"
      ],
      "execution_count": 0,
      "outputs": []
    },
    {
      "cell_type": "markdown",
      "metadata": {
        "id": "kxaP-FtVXY5f",
        "colab_type": "text"
      },
      "source": [
        "### quandl"
      ]
    },
    {
      "cell_type": "code",
      "metadata": {
        "id": "iHrMXZAIVRgN",
        "colab_type": "code",
        "colab": {}
      },
      "source": [
        "#pip install quandl\n",
        "#import quandl"
      ],
      "execution_count": 0,
      "outputs": []
    },
    {
      "cell_type": "code",
      "metadata": {
        "id": "Q9ZVFy22VUnL",
        "colab_type": "code",
        "colab": {}
      },
      "source": [
        "#salvando os dados em csv, xlsx...\n",
        "#my_data01.to_csv('caminho do diretorio para salvar o arquivo')\n"
      ],
      "execution_count": 0,
      "outputs": []
    },
    {
      "cell_type": "code",
      "metadata": {
        "id": "6ZOZGLUsVUOS",
        "colab_type": "code",
        "colab": {}
      },
      "source": [
        "#lendo o arquivo\n",
        "#my_data01 = pd.read_csv('caminho do arquivo')\n",
        "#my_data01 = pd.read_excel('caminho do arquivo')"
      ],
      "execution_count": 0,
      "outputs": []
    },
    {
      "cell_type": "code",
      "metadata": {
        "id": "NMBHbuIZVT7r",
        "colab_type": "code",
        "colab": {}
      },
      "source": [
        ""
      ],
      "execution_count": 0,
      "outputs": []
    },
    {
      "cell_type": "code",
      "metadata": {
        "id": "wv-5B_0nVTio",
        "colab_type": "code",
        "colab": {}
      },
      "source": [
        ""
      ],
      "execution_count": 0,
      "outputs": []
    },
    {
      "cell_type": "code",
      "metadata": {
        "id": "mNoborQNVS_w",
        "colab_type": "code",
        "colab": {}
      },
      "source": [
        ""
      ],
      "execution_count": 0,
      "outputs": []
    },
    {
      "cell_type": "code",
      "metadata": {
        "id": "ZFh8ftjXLV_o",
        "colab_type": "code",
        "colab": {}
      },
      "source": [
        ""
      ],
      "execution_count": 0,
      "outputs": []
    },
    {
      "cell_type": "code",
      "metadata": {
        "id": "TuQurBHtLVyg",
        "colab_type": "code",
        "colab": {}
      },
      "source": [
        ""
      ],
      "execution_count": 0,
      "outputs": []
    }
  ]
}