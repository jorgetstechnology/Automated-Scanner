{
  "nbformat": 4,
  "nbformat_minor": 0,
  "metadata": {
    "colab": {
      "name": "Untitled0.ipynb",
      "provenance": [],
      "include_colab_link": true
    },
    "kernelspec": {
      "name": "python3",
      "display_name": "Python 3"
    }
  },
  "cells": [
    {
      "cell_type": "markdown",
      "metadata": {
        "id": "view-in-github",
        "colab_type": "text"
      },
      "source": [
        "<a href=\"https://colab.research.google.com/github/jorgetstechnology/Automated-Scanner/blob/master/bioinformatica.ipynb\" target=\"_parent\"><img src=\"https://colab.research.google.com/assets/colab-badge.svg\" alt=\"Open In Colab\"/></a>"
      ]
    },
    {
      "cell_type": "markdown",
      "metadata": {
        "id": "C8oSfeJ0fMKK",
        "colab_type": "text"
      },
      "source": [
        "BioPython"
      ]
    },
    {
      "cell_type": "markdown",
      "metadata": {
        "id": "STKPkz9EfDZA",
        "colab_type": "text"
      },
      "source": [
        ""
      ]
    },
    {
      "cell_type": "markdown",
      "metadata": {
        "id": "85MEI1nNi2hq",
        "colab_type": "text"
      },
      "source": [
        ""
      ]
    },
    {
      "cell_type": "code",
      "metadata": {
        "id": "BRYyA1Luej-T",
        "colab_type": "code",
        "colab": {}
      },
      "source": [
        "from Bio.Seq import Seq"
      ],
      "execution_count": 0,
      "outputs": []
    },
    {
      "cell_type": "code",
      "metadata": {
        "id": "ruAEhlqKfbJg",
        "colab_type": "code",
        "colab": {}
      },
      "source": [
        "my_sec = ('ATG')#declara a sequencia\n",
        "seq_complementar = my_sec.complement()#retornando a sequencia complementar\n",
        "print (seq_complementar)\n"
      ],
      "execution_count": 0,
      "outputs": []
    },
    {
      "cell_type": "code",
      "metadata": {
        "id": "LBtltKZjgEk-",
        "colab_type": "code",
        "colab": {}
      },
      "source": [
        "#sequencia complementar reversa\n",
        "seq_complementar_reversa = my_seq.reverse_complement()\n",
        "print s(eq_complementar_reversa)"
      ],
      "execution_count": 0,
      "outputs": []
    },
    {
      "cell_type": "code",
      "metadata": {
        "id": "D4-r1KaGgDap",
        "colab_type": "code",
        "colab": {}
      },
      "source": [
        "#trancrição\n",
        "seq_rna = my_sec.transcribee()\n",
        "print (seq_rna)\n",
        "\n",
        "#retornando a transcrição DNA\n",
        "seq_dna = seq_rna.back_transcribe()\n",
        "print (seq_dna)"
      ],
      "execution_count": 0,
      "outputs": []
    },
    {
      "cell_type": "code",
      "metadata": {
        "id": "jHQWgPN-iFM6",
        "colab_type": "code",
        "colab": {}
      },
      "source": [
        "#transcrição\n",
        "seq_rna = my_sec.transcribe()\n",
        "seq_dna = seq_rna.back_transcribe()\n",
        "\n",
        "#tradução\n",
        "seq_proteina = seq_rna.translate()\n",
        "seq_proteina_dna = seq_dna.translate()\n",
        "\n",
        "print(seq_proteina \"\\n\", seq_proteina_dna)"
      ],
      "execution_count": 0,
      "outputs": []
    },
    {
      "cell_type": "code",
      "metadata": {
        "id": "wWVI13CdiJWM",
        "colab_type": "code",
        "colab": {}
      },
      "source": [
        ""
      ],
      "execution_count": 0,
      "outputs": []
    },
    {
      "cell_type": "code",
      "metadata": {
        "id": "risUxZAciIgP",
        "colab_type": "code",
        "colab": {}
      },
      "source": [
        ""
      ],
      "execution_count": 0,
      "outputs": []
    }
  ]
}