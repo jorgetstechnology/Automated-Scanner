{
  "nbformat": 4,
  "nbformat_minor": 0,
  "metadata": {
    "colab": {
      "name": "Analisando Arquivo FASTA.ipynb",
      "provenance": [],
      "toc_visible": true,
      "include_colab_link": true
    },
    "kernelspec": {
      "name": "python3",
      "display_name": "Python 3"
    }
  },
  "cells": [
    {
      "cell_type": "markdown",
      "metadata": {
        "id": "view-in-github",
        "colab_type": "text"
      },
      "source": [
        "<a href=\"https://colab.research.google.com/github/jorgetstechnology/Automated-Scanner/blob/master/Analisando_Arquivo_FASTA.ipynb\" target=\"_parent\"><img src=\"https://colab.research.google.com/assets/colab-badge.svg\" alt=\"Open In Colab\"/></a>"
      ]
    },
    {
      "cell_type": "markdown",
      "metadata": {
        "id": "OumGUbm2mzW_",
        "colab_type": "text"
      },
      "source": [
        "### Analisando Arquivos **FASTA**"
      ]
    },
    {
      "cell_type": "code",
      "metadata": {
        "id": "i9qvlGmmmiAW",
        "colab_type": "code",
        "colab": {}
      },
      "source": [
        " from Bio import SeqIO\n",
        "\n",
        " for fasta in SeqIO.parse(\"my_seq.fasta\", \"fasta\"):\n",
        "   print (fasta.id, \"\\n\", fasta.seq)\n"
      ],
      "execution_count": 0,
      "outputs": []
    },
    {
      "cell_type": "markdown",
      "metadata": {
        "id": "9OSjWtL2oE-h",
        "colab_type": "text"
      },
      "source": [
        "## **Estrutura de Proeínas**"
      ]
    },
    {
      "cell_type": "code",
      "metadata": {
        "id": "Qs3bbNKzn9GW",
        "colab_type": "code",
        "colab": {}
      },
      "source": [
        "from Bio.PDB import *\n",
        "parser = PDBParser()\n",
        "estrutura = parser.get_structure(\"1BGA\",\"1bga.pdb\")\n",
        "\n",
        "modelo = estrutura[0]\n",
        "cadeia_A = modelo ['A']\n",
        "atomo_100 = cadeia_A[100]#atomo na posição 100\n",
        "ca_atomo_100 = atomo_100['CA']#carbono alpha da cadeia\n",
        "#atomo_100 = estrutura[0]['A'][100]['CA'] -:> método resumido\n",
        "\n",
        "\n"
      ],
      "execution_count": 0,
      "outputs": []
    },
    {
      "cell_type": "markdown",
      "metadata": {
        "id": "ZpnAop9arRTC",
        "colab_type": "text"
      },
      "source": [
        "### **Cálculo de Distância Euclidiana**"
      ]
    },
    {
      "cell_type": "code",
      "metadata": {
        "id": "-WU5BSJSn6kd",
        "colab_type": "code",
        "colab": {}
      },
      "source": [
        "#Distância entre 2 CA alpha\n",
        "#segundo método\n",
        "atomo_100 = estrutura[0]['A'][100]['CA']\n",
        "atomo_101 = estrutura[0]['A'][101] ['CA']\n",
        "\n",
        "distancia = atomo_101 - atomo_100\n",
        "print (distancia)"
      ],
      "execution_count": 0,
      "outputs": []
    },
    {
      "cell_type": "code",
      "metadata": {
        "id": "GUAjznE2n2QK",
        "colab_type": "code",
        "colab": {}
      },
      "source": [
        ""
      ],
      "execution_count": 0,
      "outputs": []
    }
  ]
}