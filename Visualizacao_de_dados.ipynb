{
  "nbformat": 4,
  "nbformat_minor": 0,
  "metadata": {
    "colab": {
      "name": "Visualizacao de dados.ipynb",
      "provenance": [],
      "include_colab_link": true
    },
    "kernelspec": {
      "name": "python3",
      "display_name": "Python 3"
    }
  },
  "cells": [
    {
      "cell_type": "markdown",
      "metadata": {
        "id": "view-in-github",
        "colab_type": "text"
      },
      "source": [
        "<a href=\"https://colab.research.google.com/github/jorgetstechnology/Automated-Scanner/blob/master/Visualizacao_de_dados.ipynb\" target=\"_parent\"><img src=\"https://colab.research.google.com/assets/colab-badge.svg\" alt=\"Open In Colab\"/></a>"
      ]
    },
    {
      "cell_type": "code",
      "metadata": {
        "id": "tXQK2T0luSLE",
        "colab_type": "code",
        "colab": {}
      },
      "source": [
        "entrada = open(\"human.fasta\").read()#faz a leitura do arquivo fasta\n",
        "saida = open(\"human.html\",\"w\")#saída do arquivo em formato html\n",
        "\n",
        "cont = {}\n",
        "\n",
        "for i in ['A', 'T', 'C', 'G']:\n",
        "  for j in ['A', 'T', 'C', 'G']:\n",
        "    cont[i + j] = 0\n",
        "\n",
        "entrada = entrada.replace(\"\\n\", \"\")#remove erro de quebra de linha\n",
        "\n"
      ],
      "execution_count": 0,
      "outputs": []
    },
    {
      "cell_type": "code",
      "metadata": {
        "id": "BmjeevW-zsbv",
        "colab_type": "code",
        "colab": {}
      },
      "source": [
        "try: \n",
        "  for k in range (len(entrada)-1):#tamanho inicia em 0 \n",
        "    cont [entrada [k] + entrada [k + 1]] +=1\n",
        "except:\n",
        "  warning = 1"
      ],
      "execution_count": 0,
      "outputs": []
    },
    {
      "cell_type": "code",
      "metadata": {
        "id": "bxZa_G9Tvrrk",
        "colab_type": "code",
        "colab": {}
      },
      "source": [
        "#html\n",
        "i = 1\n",
        "for k in cont:\n",
        "  tranparencia = cont[k]/max(cont.values())\n",
        "  saida.write(\"<div style='width:60px; border:1px solid #111; height:100px; float:left; background-color:rgba(0,0,255,\n",
        "              \" +str(transparencia) +\"')></div>\\n\")#saída html\n",
        "  if i%4 == 0:\n",
        "    saida.write(\"<div style='clear:both'></div>\")\n",
        "\n",
        "    saida.close()\n",
        "  "
      ],
      "execution_count": 0,
      "outputs": []
    },
    {
      "cell_type": "code",
      "metadata": {
        "id": "EcvQxTf2yeXJ",
        "colab_type": "code",
        "colab": {}
      },
      "source": [
        ""
      ],
      "execution_count": 0,
      "outputs": []
    },
    {
      "cell_type": "code",
      "metadata": {
        "id": "FKPhj2ezzlMp",
        "colab_type": "code",
        "colab": {}
      },
      "source": [
        ""
      ],
      "execution_count": 0,
      "outputs": []
    }
  ]
}